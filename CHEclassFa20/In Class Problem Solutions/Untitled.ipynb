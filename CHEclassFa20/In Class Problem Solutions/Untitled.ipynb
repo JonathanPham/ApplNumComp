{
 "cells": [
  {
   "cell_type": "code",
   "execution_count": 7,
   "metadata": {},
   "outputs": [
    {
     "data": {
      "text/plain": [
       "'\\nICPL5matlab\\nUsed for comparison to Python function executing the same method.\\n\\nExample: ax = b \\n\\nEquation 1: $3x_1-0.1x_2-0.2x_3=7.85$. \\nEquation 2: $0.1x_1+7x_2-0.3x_3=-19.3$. \\nEquation 3: $0.3x_1-0.2x_2+10x_3=71.4$.\\nSoln x = [3; -2.5; 7]\\n'"
      ]
     },
     "execution_count": 7,
     "metadata": {},
     "output_type": "execute_result"
    }
   ],
   "source": [
    "\"\"\"\n",
    "ICPL5matlab\n",
    "Used for comparison to Python function executing the same method.\n",
    "\n",
    "Example: ax = b \n",
    "\n",
    "Equation 1: $3x_1-0.1x_2-0.2x_3=7.85$. \n",
    "Equation 2: $0.1x_1+7x_2-0.3x_3=-19.3$. \n",
    "Equation 3: $0.3x_1-0.2x_2+10x_3=71.4$.\n",
    "Soln x = [3; -2.5; 7]\n",
    "\"\"\""
   ]
  },
  {
   "cell_type": "markdown",
   "metadata": {},
   "source": [
    "# ICPL7matlab\n",
    "Used for comparison to Python function executing the same method.\n",
    "\n",
    "Example: ax = b \n",
    "Equation 1: $3x_1-0.1x_2-0.2x_3=7.85$.\n",
    "\n",
    "Equation 2: $0.1x_1+7x_2-0.3x_3=-19.3$. \n",
    "\n",
    "Equation 3: $0.3x_1-0.2x_2+10x_3=71.4$.\n",
    "Soln x = [3; -2.5; 7]"
   ]
  },
  {
   "cell_type": "code",
   "execution_count": 25,
   "metadata": {},
   "outputs": [],
   "source": [
    "import numpy as np\n",
    "\n",
    "# Initialize a matrix and b vector\n",
    "b = np.array( [ [7.85], [-19.3], [71.4] ] ) \n",
    "a = np.array( [ [3, -.1, -.2] , [0.1, 7, -0.3],[0.3, -.2, 10] ])\n",
    "\n",
    "\n",
    "\n",
    "\n",
    "# Define Gaussian elimination function\n",
    "def gaussElimin(a,b):\n",
    "    # Algorithm\n",
    "    n = len(b)\n",
    "    for k in range(0,n-1): # matlab 1:n-1\n",
    "        for i in range(k+1,n):\n",
    "            if a[i,k] != 0.0:\n",
    "                lam = a[i,k]/a[k,k]\n",
    "                a[i,k+1:n] = a[i,k+1:n] - lam*a[k,k+1:n]\n",
    "                b[i]= b[i] - lam*b[k]\n",
    "    for k in range(n-1,-1,-1):\n",
    "        b[k] = (b[k]- np.dot(a[k,k+1:n],b[k+1:n])  )/a[k,k]\n",
    "\n",
    "    return b"
   ]
  },
  {
   "cell_type": "code",
   "execution_count": 26,
   "metadata": {},
   "outputs": [
    {
     "name": "stdout",
     "output_type": "stream",
     "text": [
      "x =  [[ 3. ]\n",
      " [-2.5]\n",
      " [ 7. ]]\n"
     ]
    }
   ],
   "source": [
    "# Solve for x\n",
    "x = gaussElimin(a,b)\n",
    "# no semicolon so x will print to the command window\n",
    "\n",
    "# print x\n",
    "print(\"x = \",x)"
   ]
  },
  {
   "cell_type": "code",
   "execution_count": null,
   "metadata": {},
   "outputs": [],
   "source": []
  }
 ],
 "metadata": {
  "kernelspec": {
   "display_name": "Python 3",
   "language": "python",
   "name": "python3"
  },
  "language_info": {
   "codemirror_mode": {
    "name": "ipython",
    "version": 3
   },
   "file_extension": ".py",
   "mimetype": "text/x-python",
   "name": "python",
   "nbconvert_exporter": "python",
   "pygments_lexer": "ipython3",
   "version": "3.6.5"
  }
 },
 "nbformat": 4,
 "nbformat_minor": 2
}
