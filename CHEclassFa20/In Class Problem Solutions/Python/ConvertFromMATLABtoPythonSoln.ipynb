{
 "cells": [
  {
   "cell_type": "markdown",
   "metadata": {
    "colab_type": "text",
    "id": "V13V1hY28z9P"
   },
   "source": [
    "# ICP Lecture 7\n",
    "\n",
    "This ICP demonstrates converting a MATLAB file into acceptable Python code.\n",
    "\n",
    "Start with the MATLAB code provided and edit until it runs successfully in Python--either in Spyder or in a Jupyter Notebook. \n",
    "\n",
    "The MATLAB solution is\n",
    "\n",
    "x =\n",
    "\n",
    "    3.0000\n",
    "    \n",
    "    -2.5000\n",
    "   \n",
    "    7.0000\n"
   ]
  },
  {
   "cell_type": "code",
   "execution_count": 1,
   "metadata": {
    "colab": {
     "base_uri": "https://localhost:8080/",
     "height": 34
    },
    "colab_type": "code",
    "id": "Cn4bXGzT8vnV",
    "outputId": "a5b9b83e-4e72-4e59-df8a-1552700c04cd"
   },
   "outputs": [
    {
     "name": "stdout",
     "output_type": "stream",
     "text": [
      "x = [[ 3. ]\n",
      " [-2.5]\n",
      " [ 7. ]]\n"
     ]
    }
   ],
   "source": [
    "# -*- coding: utf-8 -*-\n",
    "\"\"\"\n",
    "ICPL5python\n",
    "\n",
    "Used for comparison to MATLAB function executing the same method.\n",
    "\n",
    "Example: ax = b \n",
    "Equation 1: $3x_1-0.1x_2-0.2x_3=7.85$.                \n",
    "Equation 2: $0.1x_1+7x_2-0.3x_3=-19.3$. \n",
    "Equation 3: $0.3x_1-0.2x_2+10x_3=71.4$.\n",
    "Soln x = [3; -2.5; 7]\n",
    "\n",
    "Created on Tue Aug 30 12:30:54 2016\n",
    "\n",
    "@author: Ashlee N. Ford Versypt\n",
    "\"\"\"\n",
    "\n",
    "import numpy as np\n",
    "\n",
    "# Initialize a matrix and b vector as numpy arrays\n",
    "a = np.array( [ [3.0, -.1, -.2], [0.1, 7.0, -0.3],[ 0.3, -.2, 10.0] ] )\n",
    "b = np.array( [ [7.85], [-19.3], [71.4] ] )\n",
    "\n",
    "# Define Gaussian elimination function\n",
    "def gaussElimin(a,b):\n",
    "    n = len(b)\n",
    "    for k in range(0,n-1):\n",
    "        for i in range(k+1,n):\n",
    "            if a[i,k] != 0.0:\n",
    "                lam = a[i,k]/a[k,k]\n",
    "                a[i,k+1:n] = a[i,k+1:n] - lam*a[k,k+1:n]\n",
    "                b[i] = b[i] - lam*b[k]\n",
    "    for k in range(n-1,-1,-1):\n",
    "        b[k] = (b[k] - np.dot(a[k,k+1:n],b[k+1:n]))/a[k,k]\n",
    "    return b\n",
    "\n",
    "# Solve for x\n",
    "x = gaussElimin(a,b)\n",
    "\n",
    "# Print x\n",
    "print(\"x =\",x)"
   ]
  },
  {
   "cell_type": "code",
   "execution_count": 0,
   "metadata": {
    "colab": {},
    "colab_type": "code",
    "id": "cWBZmX8u_J_Q"
   },
   "outputs": [],
   "source": []
  }
 ],
 "metadata": {
  "colab": {
   "name": "ICPLecture5.ipynb",
   "provenance": [],
   "version": "0.3.2"
  },
  "kernelspec": {
   "display_name": "Python 3",
   "language": "python",
   "name": "python3"
  },
  "language_info": {
   "codemirror_mode": {
    "name": "ipython",
    "version": 3
   },
   "file_extension": ".py",
   "mimetype": "text/x-python",
   "name": "python",
   "nbconvert_exporter": "python",
   "pygments_lexer": "ipython3",
   "version": "3.6.5"
  }
 },
 "nbformat": 4,
 "nbformat_minor": 1
}
